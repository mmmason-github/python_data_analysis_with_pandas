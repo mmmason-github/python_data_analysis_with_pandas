{
 "cells": [
  {
   "cell_type": "code",
   "execution_count": 1,
   "metadata": {
    "tags": []
   },
   "outputs": [],
   "source": [
    "import pandas as pd"
   ]
  },
  {
   "cell_type": "markdown",
   "metadata": {},
   "source": [
    "# Create a Series Object from a Python List"
   ]
  },
  {
   "cell_type": "code",
   "execution_count": 2,
   "metadata": {
    "tags": []
   },
   "outputs": [
    {
     "name": "stdout",
     "output_type": "stream",
     "text": [
      "0     Chocolate\n",
      "1       Vanilla\n",
      "2    Strawberry\n",
      "3    Rum Raisin\n",
      "dtype: object\n"
     ]
    }
   ],
   "source": [
    "ice_cream = [\"Chocolate\", \"Vanilla\", \"Strawberry\", \"Rum Raisin\"]\n",
    "print(pd.Series(ice_cream))"
   ]
  },
  {
   "cell_type": "code",
   "execution_count": 3,
   "metadata": {
    "tags": []
   },
   "outputs": [
    {
     "name": "stdout",
     "output_type": "stream",
     "text": [
      "0     4\n",
      "1     8\n",
      "2    15\n",
      "3    16\n",
      "4    23\n",
      "5    42\n",
      "dtype: int64\n"
     ]
    }
   ],
   "source": [
    "lottery = [4, 8, 15, 16, 23, 42]\n",
    "print(pd.Series(lottery))"
   ]
  },
  {
   "cell_type": "code",
   "execution_count": 4,
   "metadata": {
    "tags": []
   },
   "outputs": [
    {
     "name": "stdout",
     "output_type": "stream",
     "text": [
      "0     True\n",
      "1    False\n",
      "2    False\n",
      "3    False\n",
      "4     True\n",
      "dtype: bool\n"
     ]
    }
   ],
   "source": [
    "registrations = [True, False, False, False, True]\n",
    "print(pd.Series(registrations))"
   ]
  },
  {
   "cell_type": "markdown",
   "metadata": {},
   "source": [
    "# Create a Series Object from a Python Dictionary"
   ]
  },
  {
   "cell_type": "code",
   "execution_count": 5,
   "metadata": {
    "tags": []
   },
   "outputs": [
    {
     "name": "stdout",
     "output_type": "stream",
     "text": [
      "Salmon    Orange\n",
      "Tuna         Red\n",
      "Eel        Brown\n",
      "dtype: object\n"
     ]
    }
   ],
   "source": [
    "sushi = {\"Salmon\": \"Orange\", \"Tuna\": \"Red\", \"Eel\": \"Brown\"}\n",
    "print(pd.Series(sushi))"
   ]
  },
  {
   "cell_type": "markdown",
   "metadata": {},
   "source": [
    "# Coding Exercise\n",
    "***\n",
    "\n",
    "### Import the pandas library and assign it its \"pd\" alias\n",
    "### Create a list with 4 countries - United States, France, Germany, Italy\n",
    "### Create a new Series by passing in the list of countries\n",
    "### Assign the Series to a \"countries\" variable\n",
    "***\n",
    "\n",
    "### Create a list with 3 colors - red, green, blue\n",
    "### Create a new Series by passing in the list of colors\n",
    "### Assign the Series to a \"colors\" variable\n",
    "***\n",
    "\n",
    "### Given the \"recipe\" dictionary below,\n",
    "### create a new Series by passing in the dictionary as the data source\n",
    "### Assign the resulting Series to a \"series_dict\" variable\n",
    "### recipe = { \"Flour\": True, \"Sugar\": True, \"Salt\": False }\n",
    "***"
   ]
  },
  {
   "cell_type": "code",
   "execution_count": 6,
   "metadata": {
    "tags": []
   },
   "outputs": [
    {
     "name": "stdout",
     "output_type": "stream",
     "text": [
      "0    United States\n",
      "1           France\n",
      "2          Germany\n",
      "3            Italy\n",
      "dtype: object \n",
      "\n",
      "0      red\n",
      "1    green\n",
      "2     blue\n",
      "dtype: object \n",
      "\n",
      "Flour     True\n",
      "Sugar     True\n",
      "Salt     False\n",
      "dtype: bool n\n"
     ]
    }
   ],
   "source": [
    "countries = pd.Series([\"United States\", \"France\", \"Germany\", \"Italy\"])\n",
    "\n",
    "\n",
    "colors = pd.Series([\"red\", \"green\", \"blue\"])\n",
    "\n",
    "\n",
    "series_dict = pd.Series({\"Flour\": True, \"Sugar\": True, \"Salt\": False})\n",
    "\n",
    "\n",
    "print(countries, \"\\n\")\n",
    "print(colors, \"\\n\")\n",
    "print(series_dict, \"n\")"
   ]
  },
  {
   "cell_type": "markdown",
   "metadata": {},
   "source": [
    "# Introduction to Methods"
   ]
  },
  {
   "cell_type": "code",
   "execution_count": 7,
   "metadata": {
    "tags": []
   },
   "outputs": [
    {
     "name": "stdout",
     "output_type": "stream",
     "text": [
      "HELLO\n",
      "[1, 2, 3, 4]\n"
     ]
    }
   ],
   "source": [
    "print(\"hello\".upper())\n",
    "values = [1, 2, 3]\n",
    "values.append(4)\n",
    "print(values)"
   ]
  },
  {
   "cell_type": "code",
   "execution_count": 8,
   "metadata": {
    "tags": []
   },
   "outputs": [
    {
     "name": "stdout",
     "output_type": "stream",
     "text": [
      "0    2.99\n",
      "1    4.45\n",
      "2    1.36\n",
      "dtype: float64\n"
     ]
    }
   ],
   "source": [
    "prices = pd.Series([2.99, 4.45, 1.36])\n",
    "print(prices)"
   ]
  },
  {
   "cell_type": "code",
   "execution_count": 9,
   "metadata": {
    "tags": []
   },
   "outputs": [
    {
     "name": "stdout",
     "output_type": "stream",
     "text": [
      "sum: 8.8\n"
     ]
    }
   ],
   "source": [
    "print(f\"sum: {prices.sum()}\")"
   ]
  },
  {
   "cell_type": "code",
   "execution_count": 10,
   "metadata": {
    "tags": []
   },
   "outputs": [
    {
     "name": "stdout",
     "output_type": "stream",
     "text": [
      "product: 18.095480000000006\n"
     ]
    }
   ],
   "source": [
    "print(f\"product: {prices.product()}\")"
   ]
  },
  {
   "cell_type": "code",
   "execution_count": 11,
   "metadata": {
    "tags": []
   },
   "outputs": [
    {
     "name": "stdout",
     "output_type": "stream",
     "text": [
      "mean: 2.9333333333333336\n",
      "variance: 2.3894333333333337\n",
      "standard deviation: 1.5457791994115246\n"
     ]
    }
   ],
   "source": [
    "print(f\"mean: {prices.mean()}\")\n",
    "print(f\"variance: {prices.var()}\")\n",
    "print(f\"standard deviation: {prices.std()}\")"
   ]
  },
  {
   "cell_type": "markdown",
   "metadata": {},
   "source": [
    "# Introduction to Attributes"
   ]
  },
  {
   "cell_type": "code",
   "execution_count": 12,
   "metadata": {
    "tags": []
   },
   "outputs": [],
   "source": [
    "# Method is a behaviour\n",
    "# Attribute describes the object\n",
    "\n",
    "# Method on a car -> drive\n",
    "# Attribute on a car -> color"
   ]
  },
  {
   "cell_type": "code",
   "execution_count": 13,
   "metadata": {
    "tags": []
   },
   "outputs": [
    {
     "name": "stdout",
     "output_type": "stream",
     "text": [
      "0        Smart\n",
      "1     Handsome\n",
      "2     Charming\n",
      "3    Brilliant\n",
      "4       Humble\n",
      "dtype: object\n"
     ]
    }
   ],
   "source": [
    "adjectives = pd.Series(\n",
    "    [\"Smart\", \"Handsome\", \"Charming\", \"Brilliant\", \"Humble\"]\n",
    ")\n",
    "print(adjectives)"
   ]
  },
  {
   "cell_type": "code",
   "execution_count": 14,
   "metadata": {
    "tags": []
   },
   "outputs": [
    {
     "name": "stdout",
     "output_type": "stream",
     "text": [
      "Size of the series: 5\n"
     ]
    }
   ],
   "source": [
    "print(f\"Size of the series: {adjectives.size}\")"
   ]
  },
  {
   "cell_type": "code",
   "execution_count": 15,
   "metadata": {
    "tags": []
   },
   "outputs": [
    {
     "name": "stdout",
     "output_type": "stream",
     "text": [
      "Each element unique? True\n"
     ]
    }
   ],
   "source": [
    "print(f\"Each element unique? {adjectives.is_unique}\")"
   ]
  },
  {
   "cell_type": "code",
   "execution_count": 16,
   "metadata": {
    "tags": []
   },
   "outputs": [
    {
     "name": "stdout",
     "output_type": "stream",
     "text": [
      "0        Smart\n",
      "1     Handsome\n",
      "2     Charming\n",
      "3    Brilliant\n",
      "4       Humble\n",
      "5        Smart\n",
      "dtype: object\n"
     ]
    }
   ],
   "source": [
    "adjectives = pd.Series(\n",
    "    [\"Smart\", \"Handsome\", \"Charming\", \"Brilliant\", \"Humble\", \"Smart\"]\n",
    ")\n",
    "print(adjectives)"
   ]
  },
  {
   "cell_type": "code",
   "execution_count": 17,
   "metadata": {
    "tags": []
   },
   "outputs": [
    {
     "name": "stdout",
     "output_type": "stream",
     "text": [
      "Each element unique? False\n"
     ]
    }
   ],
   "source": [
    "print(f\"Each element unique? {adjectives.is_unique}\")"
   ]
  },
  {
   "cell_type": "code",
   "execution_count": 18,
   "metadata": {
    "tags": []
   },
   "outputs": [
    {
     "name": "stdout",
     "output_type": "stream",
     "text": [
      "['Smart' 'Handsome' 'Charming' 'Brilliant' 'Humble' 'Smart']\n"
     ]
    }
   ],
   "source": [
    "print(adjectives.values)"
   ]
  },
  {
   "cell_type": "code",
   "execution_count": 19,
   "metadata": {
    "tags": []
   },
   "outputs": [
    {
     "name": "stdout",
     "output_type": "stream",
     "text": [
      "<class 'numpy.ndarray'>\n"
     ]
    }
   ],
   "source": [
    "print(type(adjectives.values))"
   ]
  },
  {
   "cell_type": "code",
   "execution_count": 20,
   "metadata": {
    "tags": []
   },
   "outputs": [
    {
     "name": "stdout",
     "output_type": "stream",
     "text": [
      "RangeIndex(start=0, stop=6, step=1)\n"
     ]
    }
   ],
   "source": [
    "print(adjectives.index)"
   ]
  },
  {
   "cell_type": "code",
   "execution_count": 21,
   "metadata": {
    "tags": []
   },
   "outputs": [
    {
     "name": "stdout",
     "output_type": "stream",
     "text": [
      "<class 'pandas.core.indexes.range.RangeIndex'>\n"
     ]
    }
   ],
   "source": [
    "print(type(adjectives.index))"
   ]
  },
  {
   "cell_type": "code",
   "execution_count": 22,
   "metadata": {
    "tags": []
   },
   "outputs": [
    {
     "name": "stdout",
     "output_type": "stream",
     "text": [
      "object\n"
     ]
    }
   ],
   "source": [
    "print(adjectives.dtype)"
   ]
  },
  {
   "cell_type": "code",
   "execution_count": 23,
   "metadata": {
    "tags": []
   },
   "outputs": [
    {
     "name": "stdout",
     "output_type": "stream",
     "text": [
      "<class 'numpy.dtype[object_]'>\n"
     ]
    }
   ],
   "source": [
    "print(type(adjectives.dtype))"
   ]
  },
  {
   "cell_type": "markdown",
   "metadata": {},
   "source": [
    "# Coding Exercise\n",
    "***\n",
    "\n",
    "### The Series below stores the number of home runs\n",
    "### that a baseball player hit per game\n",
    "### home_runs = pd.Series([3, 4, 8, 2])\n",
    "***\n",
    "\n",
    "### Find the total number of home runs (i.e. the sum) and assign it\n",
    "### to the total_home_runs variable below\n",
    "### total_home_runs =\n",
    "***\n",
    "\n",
    "### Find the average number of home runs and assign it\n",
    "### to the average_home_runs variable below\n",
    "### average_home_runs =\n",
    "***"
   ]
  },
  {
   "cell_type": "code",
   "execution_count": 24,
   "metadata": {
    "tags": []
   },
   "outputs": [
    {
     "name": "stdout",
     "output_type": "stream",
     "text": [
      "0    3\n",
      "1    4\n",
      "2    8\n",
      "3    2\n",
      "dtype: int64 \n",
      "\n",
      "Total number of home runs: 17\n",
      "Average home runs: 4.25\n"
     ]
    }
   ],
   "source": [
    "home_runs = pd.Series([3, 4, 8, 2])\n",
    "total_home_runs = home_runs.sum()\n",
    "average_home_runs = home_runs.mean()\n",
    "print(home_runs, \"\\n\")\n",
    "print(f\"Total number of home runs: {total_home_runs}\")\n",
    "print(f\"Average home runs: {average_home_runs}\")"
   ]
  },
  {
   "cell_type": "markdown",
   "metadata": {},
   "source": [
    "# Parameters and Arguments\n",
    "***\n",
    "### Parameter - The name we give to an expected input\n",
    "### Argument - The concrete value that we provide to a parameter\n",
    "\n",
    "***\n",
    "### Example -> Difficulty\n",
    "### Difficulty(Parameter) - Easy(Argument), Medium(Argument), Hard(Argument)\n",
    "### Volume(Parameters) - 1 through 10 (Arguments)\n",
    "### Subtitles(Parameters) - True(Argument), False(Argument)"
   ]
  },
  {
   "cell_type": "code",
   "execution_count": 30,
   "metadata": {
    "tags": []
   },
   "outputs": [
    {
     "name": "stdout",
     "output_type": "stream",
     "text": [
      "Monday           Apple\n",
      "Tuesday         Orange\n",
      "Wednesday         Plum\n",
      "Thursday         Grape\n",
      "Friday       Blueberry\n",
      "Name: Days|Fruits, dtype: object \n",
      "\n",
      "Apple           Monday\n",
      "Orange         Tuesday\n",
      "Plum         Wednesday\n",
      "Grape         Thursday\n",
      "Blueberry       Friday\n",
      "Name: Fruits|Days, dtype: object \n",
      "\n"
     ]
    }
   ],
   "source": [
    "fruits = [\"Apple\", \"Orange\", \"Plum\", \"Grape\", \"Blueberry\"]\n",
    "weekdays = [\"Monday\", \"Tuesday\", \"Wednesday\", \"Thursday\", \"Friday\"]\n",
    "print(pd.Series(data=fruits, index=weekdays, name=\"Days|Fruits\"), \"\\n\")\n",
    "print(pd.Series(data=weekdays, index=fruits, name=\"Fruits|Days\"), \"\\n\")"
   ]
  },
  {
   "cell_type": "code",
   "execution_count": null,
   "metadata": {},
   "outputs": [],
   "source": []
  },
  {
   "cell_type": "code",
   "execution_count": null,
   "metadata": {},
   "outputs": [],
   "source": []
  },
  {
   "cell_type": "code",
   "execution_count": null,
   "metadata": {},
   "outputs": [],
   "source": []
  },
  {
   "cell_type": "code",
   "execution_count": null,
   "metadata": {},
   "outputs": [],
   "source": []
  },
  {
   "cell_type": "code",
   "execution_count": null,
   "metadata": {},
   "outputs": [],
   "source": []
  },
  {
   "cell_type": "code",
   "execution_count": null,
   "metadata": {},
   "outputs": [],
   "source": []
  },
  {
   "cell_type": "code",
   "execution_count": null,
   "metadata": {},
   "outputs": [],
   "source": []
  },
  {
   "cell_type": "code",
   "execution_count": null,
   "metadata": {},
   "outputs": [],
   "source": []
  },
  {
   "cell_type": "code",
   "execution_count": null,
   "metadata": {},
   "outputs": [],
   "source": []
  }
 ],
 "metadata": {
  "kernelspec": {
   "display_name": "Python 3 (ipykernel)",
   "language": "python",
   "name": "python3"
  },
  "language_info": {
   "codemirror_mode": {
    "name": "ipython",
    "version": 3
   },
   "file_extension": ".py",
   "mimetype": "text/x-python",
   "name": "python",
   "nbconvert_exporter": "python",
   "pygments_lexer": "ipython3",
   "version": "3.10.9"
  },
  "vscode": {
   "interpreter": {
    "hash": "d14ec659eb9447704dfbc741b8129dd1464e4b61dce2b122006c2ad5a43474bb"
   }
  }
 },
 "nbformat": 4,
 "nbformat_minor": 4
}
