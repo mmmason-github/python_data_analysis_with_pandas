{
 "cells": [],
 "metadata": {
  "kernelspec": {
   "display_name": ".venv",
   "language": "python",
   "name": "python3"
  },
  "language_info": {
   "codemirror_mode": {
    "name": "ipython",
    "version": 3
   },
   "file_extension": ".py",
   "mimetype": "text/x-python",
   "name": "python",
   "nbconvert_exporter": "python",
   "pygments_lexer": "ipython3",
   "version": "3.11.2"
  },
  "orig_nbformat": 4,
  "vscode": {
   "interpreter": {
    "hash": "d14ec659eb9447704dfbc741b8129dd1464e4b61dce2b122006c2ad5a43474bb"
   }
  }
 },
 "nbformat": 4,
 "nbformat_minor": 2
}
