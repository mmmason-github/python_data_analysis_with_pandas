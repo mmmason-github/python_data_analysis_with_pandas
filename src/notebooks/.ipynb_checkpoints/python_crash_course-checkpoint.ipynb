{
 "cells": [
  {
   "cell_type": "code",
   "execution_count": null,
   "metadata": {},
   "outputs": [],
   "source": []
  }
 ],
 "metadata": {
  "kernelspec": {
   "display_name": "Python 3 (ipykernel)",
   "language": "python",
   "name": "python3"
  },
  "language_info": {
   "codemirror_mode": {
    "name": "ipython",
    "version": 3
   },
   "file_extension": ".py",
   "mimetype": "text/x-python",
   "name": "python",
   "nbconvert_exporter": "python",
   "pygments_lexer": "ipython3",
   "version": "3.10.9"
  },
  "vscode": {
   "interpreter": {
    "hash": "9a370b2e7fca891760bb4618f79e115bf60d49ce51d6db35506d2974e3dfc96b"
   }
  }
 },
 "nbformat": 4,
 "nbformat_minor": 4
}
